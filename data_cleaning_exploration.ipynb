{
 "cells": [
  {
   "cell_type": "markdown",
   "metadata": {},
   "source": [
    "## Data Cleaning "
   ]
  },
  {
   "cell_type": "code",
   "execution_count": 1,
   "metadata": {},
   "outputs": [],
   "source": [
    "# import librariesy \n",
    "import pandas as pd\n",
    "import numpy as np\n",
    "import matplotlib.pyplot as plt\n",
    "from bs4 import BeautifulSoup\n",
    "import re\n",
    "%matplotlib inline"
   ]
  },
  {
   "cell_type": "code",
   "execution_count": 45,
   "metadata": {},
   "outputs": [],
   "source": [
    "raw_df = pd.read_csv('~/Downloads/stack-overflow-bqresults.csv')"
   ]
  },
  {
   "cell_type": "code",
   "execution_count": 3,
   "metadata": {},
   "outputs": [
    {
     "name": "stdout",
     "output_type": "stream",
     "text": [
      "<class 'pandas.core.frame.DataFrame'>\n",
      "RangeIndex: 250000 entries, 0 to 249999\n",
      "Data columns (total 4 columns):\n",
      "id       250000 non-null int64\n",
      "title    80283 non-null object\n",
      "body     250000 non-null object\n",
      "tags     80284 non-null object\n",
      "dtypes: int64(1), object(3)\n",
      "memory usage: 7.6+ MB\n"
     ]
    }
   ],
   "source": [
    "raw_df.info()"
   ]
  },
  {
   "cell_type": "code",
   "execution_count": 46,
   "metadata": {},
   "outputs": [],
   "source": [
    "# 80284 non-null types and title out of 250000 entries\n",
    "# remove observations without tags or title \n",
    "raw_df.dropna(inplace=True)"
   ]
  },
  {
   "cell_type": "code",
   "execution_count": 47,
   "metadata": {},
   "outputs": [],
   "source": [
    "# make remove html tags from body\n",
    "raw_df['body'] = raw_df.body.apply(lambda x: BeautifulSoup(x).get_text())"
   ]
  },
  {
   "cell_type": "markdown",
   "metadata": {},
   "source": [
    "### Check for top 10 tags and find most relevant topics for classification "
   ]
  },
  {
   "cell_type": "code",
   "execution_count": 6,
   "metadata": {
    "scrolled": false
   },
   "outputs": [
    {
     "data": {
      "text/plain": [
       "angularjs               195\n",
       "c#|.net                 175\n",
       "vim                     172\n",
       "css                     170\n",
       "c++                     161\n",
       "ruby                    155\n",
       "mysql                   148\n",
       "git|github              117\n",
       "ruby-on-rails           110\n",
       "javascript|angularjs    107\n",
       "Name: tags, dtype: int64"
      ]
     },
     "execution_count": 6,
     "metadata": {},
     "output_type": "execute_result"
    }
   ],
   "source": [
    "raw_df.tags.value_counts()[10:20]"
   ]
  },
  {
   "cell_type": "markdown",
   "metadata": {},
   "source": [
    "## We will focus on these five topics:\n",
    "\n",
    "* git - version_control\n",
    "* android \n",
    "* javascript\n",
    "* python \n",
    "* sql"
   ]
  },
  {
   "cell_type": "markdown",
   "metadata": {},
   "source": [
    "### Topic 1: Git related (version_control)"
   ]
  },
  {
   "cell_type": "code",
   "execution_count": 48,
   "metadata": {},
   "outputs": [],
   "source": [
    "# change anyting has git in it as version control topic \n",
    "raw_df['topic'] = raw_df.tags.apply(lambda x: 'git_related' if re.search(\n",
    "    '(^git|git$)', x.lower()) and 'digit' not in x else x)\n",
    "\n",
    "# didn't get this osx|git|gitignore  "
   ]
  },
  {
   "cell_type": "code",
   "execution_count": 49,
   "metadata": {},
   "outputs": [],
   "source": [
    "def check_topic(L1, L2):\n",
    "    '''\n",
    "    inputs:\n",
    "    L1: a list of strings, a list of tag words in the specific topic \n",
    "    L2: a list of strings, tags converted from the column tags as a list of strings \n",
    "    outputs:\n",
    "    return True or False if the L2 tag contains key word from the L1 \n",
    "    '''\n",
    "    L2 = [x.lower() for x in L2]\n",
    "    for l1 in L1:\n",
    "        if l1.lower() in L2:\n",
    "            return True\n",
    "    return False"
   ]
  },
  {
   "cell_type": "markdown",
   "metadata": {},
   "source": [
    "### Topic2: anything has to do web fronted (javascript related)"
   ]
  },
  {
   "cell_type": "code",
   "execution_count": 135,
   "metadata": {},
   "outputs": [],
   "source": [
    "# step two:\n",
    "# change anyting has javascript as web development\n",
    "javascript = ['javascript','json','node.js','*.js']\n",
    "raw_df['topic'] = raw_df.topic.apply(\n",
    "    lambda x: 'javascript_related' if check_topic(javascript, x.split('|')) else x)"
   ]
  },
  {
   "cell_type": "markdown",
   "metadata": {},
   "source": [
    "### Topic3: anything has to do android "
   ]
  },
  {
   "cell_type": "code",
   "execution_count": 77,
   "metadata": {
    "scrolled": true
   },
   "outputs": [],
   "source": [
    "# change anyting contains android as android topic\n",
    "raw_df['topic'] =raw_df.topic.apply(\n",
    "    lambda x: 'android_related' if check_topic(['android','android-studio'],x.split('|')) else x)"
   ]
  },
  {
   "cell_type": "markdown",
   "metadata": {},
   "source": [
    "### Topic4: python related "
   ]
  },
  {
   "cell_type": "code",
   "execution_count": 93,
   "metadata": {},
   "outputs": [],
   "source": [
    "raw_df['topic'] = raw_df.topic.apply(\n",
    "    lambda x: 'python_related' if \n",
    "    check_topic(['python', 'pandas', 'matplotlib', 'ipython', 'ipython-notebook'], x.split('|')) \n",
    "    else x)"
   ]
  },
  {
   "cell_type": "markdown",
   "metadata": {},
   "source": [
    "### Topic 5: sql based"
   ]
  },
  {
   "cell_type": "code",
   "execution_count": 53,
   "metadata": {},
   "outputs": [],
   "source": [
    "raw_df['topic'] =raw_df.topic.apply(\n",
    "    lambda x: 'sql_related' if 'sql' in x.lower() else x)"
   ]
  },
  {
   "cell_type": "markdown",
   "metadata": {},
   "source": [
    "### Topic 6: iphone"
   ]
  },
  {
   "cell_type": "code",
   "execution_count": 132,
   "metadata": {},
   "outputs": [],
   "source": [
    "raw_df['topic'] =raw_df.topic.apply(\n",
    "    lambda x: 'iphone_related' if check_topic(['iphone','ios5','ios6','ios8'],x.split('|')) else x)"
   ]
  },
  {
   "cell_type": "markdown",
   "metadata": {},
   "source": [
    "### Topic 7: ruby"
   ]
  },
  {
   "cell_type": "code",
   "execution_count": 138,
   "metadata": {
    "scrolled": true
   },
   "outputs": [],
   "source": [
    "raw_df['topic'] = raw_df.topic.apply(\n",
    "    lambda x: 'ruby_related' \n",
    "    if check_topic(['ruby', 'ruby-on-rails'], x.split('|')) else x)\n"
   ]
  },
  {
   "cell_type": "markdown",
   "metadata": {},
   "source": [
    "### Topic java and c# and c++ but no overlap \n",
    "\n",
    "* c++ has no overlap with c# or java "
   ]
  },
  {
   "cell_type": "code",
   "execution_count": 148,
   "metadata": {},
   "outputs": [],
   "source": [
    "commom_rows = raw_df.topic.apply(lambda x: \n",
    "                   (check_topic(['c#'],x.split('|')))\n",
    "                   and (check_topic(['java'],x.split('|'))))\n",
    "# remove these common rows for c# and java "
   ]
  },
  {
   "cell_type": "code",
   "execution_count": 146,
   "metadata": {},
   "outputs": [],
   "source": [
    "raw_df['topic'] = raw_df.topic.apply(\n",
    "    lambda x: 'c++_related' \n",
    "    if check_topic(['c\\+\\+'], x.split('|')) else x)\n",
    "\n"
   ]
  },
  {
   "cell_type": "code",
   "execution_count": 150,
   "metadata": {},
   "outputs": [],
   "source": [
    "raw_df['topic'] = raw_df[~commom_rows].topic.apply(\n",
    "    lambda x: 'c#_related' \n",
    "    if check_topic(['c#'], x.split('|')) else x)"
   ]
  },
  {
   "cell_type": "code",
   "execution_count": 155,
   "metadata": {},
   "outputs": [],
   "source": [
    "raw_df['topic'] = raw_df[~commom_rows].topic.apply(\n",
    "    lambda x: 'java_related' \n",
    "    if check_topic(['java'], x.split('|')) else x)"
   ]
  },
  {
   "cell_type": "code",
   "execution_count": 170,
   "metadata": {
    "scrolled": false
   },
   "outputs": [],
   "source": [
    "list_counts = raw_df.topic.value_counts()[:9].values\n",
    "                                                    \n",
    "names = raw_df.topic.value_counts()[:9].index\n"
   ]
  },
  {
   "cell_type": "code",
   "execution_count": 173,
   "metadata": {},
   "outputs": [
    {
     "data": {
      "text/plain": [
       "([0, 1, 2, 3, 4, 5, 6, 7, 8], <a list of 9 Text xticklabel objects>)"
      ]
     },
     "execution_count": 173,
     "metadata": {},
     "output_type": "execute_result"
    },
    {
     "data": {
      "image/png": "[encoded data removed]",
      "text/plain": [
       "<Figure size 432x288 with 1 Axes>"
      ]
     },
     "metadata": {
      "needs_background": "light"
     },
     "output_type": "display_data"
    }
   ],
   "source": [
    "plt.bar(names, list_counts/np.sum(list_counts))\n",
    "plt.xticks(rotation = 90)"
   ]
  },
  {
   "cell_type": "code",
   "execution_count": 49,
   "metadata": {
    "scrolled": true
   },
   "outputs": [
    {
     "data": {
      "text/plain": [
       "7024"
      ]
     },
     "execution_count": 49,
     "metadata": {},
     "output_type": "execute_result"
    }
   ],
   "source": [
    "raw_df.tags.str.contains('javascript').sum()"
   ]
  },
  {
   "cell_type": "markdown",
   "metadata": {},
   "source": [
    "git                  531  2655\n",
    "android              500   5839\n",
    "javascript           460  7024\n",
    "python               401  5145\n",
    "javascript|jquery    339\n",
    "java                 286\n",
    "jquery               282 3416\n",
    "html|css             253  3502, 2761\n",
    "c#                   217   7207\n",
    "php                  216  2811\n",
    "\n",
    "angularjs               195  1178\n",
    "c#|.net                 175  6634\n",
    "vim                     172\n",
    "css                     170  2761\n",
    "c++                     161 4030\n",
    "ruby                    155  2844\n",
    "mysql                   148  4390\n",
    "git|github              117\n",
    "ruby-on-rails           110\n",
    "javascript|angularjs    107\n"
   ]
  },
  {
   "cell_type": "code",
   "execution_count": 73,
   "metadata": {},
   "outputs": [
    {
     "data": {
      "text/plain": [
       "4390"
      ]
     },
     "execution_count": 73,
     "metadata": {},
     "output_type": "execute_result"
    }
   ],
   "source": [
    "raw_df.tags.str.contains(\"\").sum()"
   ]
  },
  {
   "cell_type": "code",
   "execution_count": null,
   "metadata": {
    "scrolled": true
   },
   "outputs": [],
   "source": [
    "raw_df.tags"
   ]
  },
  {
   "cell_type": "code",
   "execution_count": null,
   "metadata": {},
   "outputs": [],
   "source": []
  },
  {
   "cell_type": "code",
   "execution_count": null,
   "metadata": {},
   "outputs": [],
   "source": [
    "# bring python topic into next category "
   ]
  },
  {
   "cell_type": "code",
   "execution_count": null,
   "metadata": {},
   "outputs": [],
   "source": [
    "# bring java into next category "
   ]
  },
  {
   "cell_type": "code",
   "execution_count": null,
   "metadata": {},
   "outputs": [],
   "source": [
    "# bring c# into next category"
   ]
  },
  {
   "cell_type": "code",
   "execution_count": null,
   "metadata": {},
   "outputs": [],
   "source": [
    "# step three:\n",
    "# change anything that has "
   ]
  },
  {
   "cell_type": "code",
   "execution_count": null,
   "metadata": {},
   "outputs": [],
   "source": [
    "raw_df[raw_df.topic.apply(lambda x: '|'.join(x)).str.contains('android')]"
   ]
  },
  {
   "cell_type": "code",
   "execution_count": null,
   "metadata": {},
   "outputs": [],
   "source": [
    "# make sure to not double count, only replace things have git as git "
   ]
  },
  {
   "cell_type": "code",
   "execution_count": null,
   "metadata": {},
   "outputs": [],
   "source": [
    "raw_df.tags = raw_df.tags.str.split('|')"
   ]
  },
  {
   "cell_type": "code",
   "execution_count": null,
   "metadata": {},
   "outputs": [],
   "source": [
    "# replace anything match git related as the word git \n",
    "raw_df.tags.apply(lambda tag: set('git' if re.match('(^git|git$)',x) else x for x in tag))"
   ]
  },
  {
   "cell_type": "code",
   "execution_count": null,
   "metadata": {},
   "outputs": [],
   "source": [
    "temp_df = pd.DataFrame(pd.concat([pd.Series(row['id'], row['tags'].split('|'))\n",
    "           for _, row in raw_df.iterrows()])).reset_index()"
   ]
  },
  {
   "cell_type": "code",
   "execution_count": null,
   "metadata": {},
   "outputs": [],
   "source": [
    "temp_df.rename(columns = {'index':'tags',0:'id'}, inplace = True)"
   ]
  },
  {
   "cell_type": "code",
   "execution_count": null,
   "metadata": {},
   "outputs": [],
   "source": [
    "split_df = pd.merge(temp_df, raw_df,on='id')"
   ]
  },
  {
   "cell_type": "code",
   "execution_count": null,
   "metadata": {},
   "outputs": [],
   "source": [
    "split_df.drop(columns = ['tags_y'], inplace=True)"
   ]
  },
  {
   "cell_type": "code",
   "execution_count": null,
   "metadata": {},
   "outputs": [],
   "source": [
    "split_df.rename(columns={'tags_x':'tags'}, inplace = True)"
   ]
  },
  {
   "cell_type": "code",
   "execution_count": null,
   "metadata": {
    "scrolled": true
   },
   "outputs": [],
   "source": [
    "split_df.head()"
   ]
  },
  {
   "cell_type": "markdown",
   "metadata": {},
   "source": [
    "# should be able to merge a few tags and use common sense to make them into the same tag category\n"
   ]
  }
 ],
 "metadata": {
  "kernelspec": {
   "display_name": "Python 3",
   "language": "python",
   "name": "python3"
  },
  "language_info": {
   "codemirror_mode": {
    "name": "ipython",
    "version": 3
   },
   "file_extension": ".py",
   "mimetype": "text/x-python",
   "name": "python",
   "nbconvert_exporter": "python",
   "pygments_lexer": "ipython3",
   "version": "3.7.1"
  }
 },
 "nbformat": 4,
 "nbformat_minor": 2
}
