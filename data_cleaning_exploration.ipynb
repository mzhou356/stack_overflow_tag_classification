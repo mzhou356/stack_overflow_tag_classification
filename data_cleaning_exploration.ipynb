{
 "cells": [
  {
   "cell_type": "markdown",
   "metadata": {},
   "source": [
    "## Data Cleaning "
   ]
  },
  {
   "cell_type": "code",
   "execution_count": 21,
   "metadata": {},
   "outputs": [],
   "source": [
    "# import librariesy \n",
    "import pandas as pd\n",
    "import numpy as np\n",
    "import matplotlib.pyplot as plt\n",
    "from bs4 import BeautifulSoup\n",
    "import re\n",
    "%matplotlib inline"
   ]
  },
  {
   "cell_type": "code",
   "execution_count": 3,
   "metadata": {},
   "outputs": [],
   "source": [
    "raw_df = pd.read_csv('~/Downloads/stack-overflow-bqresults.csv')"
   ]
  },
  {
   "cell_type": "code",
   "execution_count": 3,
   "metadata": {},
   "outputs": [],
   "source": [
    "# raw_df.info()"
   ]
  },
  {
   "cell_type": "code",
   "execution_count": 4,
   "metadata": {},
   "outputs": [],
   "source": [
    "# 80284 non-null types and title out of 250000 entries\n",
    "# remove observations without tags or title \n",
    "raw_df.dropna(inplace=True)"
   ]
  },
  {
   "cell_type": "code",
   "execution_count": 5,
   "metadata": {},
   "outputs": [],
   "source": [
    "# make remove html tags from body\n",
    "raw_df['body'] = raw_df.body.apply(lambda x: BeautifulSoup(x).get_text())"
   ]
  },
  {
   "cell_type": "markdown",
   "metadata": {},
   "source": [
    "### Digging through tags to find most popular tags (remove overlapping posts) "
   ]
  },
  {
   "cell_type": "code",
   "execution_count": 6,
   "metadata": {
    "scrolled": false
   },
   "outputs": [],
   "source": [
    "# raw_df.tags.value_counts()[:50]"
   ]
  },
  {
   "cell_type": "markdown",
   "metadata": {},
   "source": [
    "## We will focus on these 10 topics:\n",
    "\n",
    "* git \n",
    "* android \n",
    "* javascript\n",
    "* python \n",
    "* ruby\n",
    "* c++\n",
    "* c#\n",
    "* java (make sure not overlap with c#)\n",
    "* sql\n",
    "* iphone "
   ]
  },
  {
   "cell_type": "code",
   "execution_count": 7,
   "metadata": {},
   "outputs": [],
   "source": [
    "all_tags = ['git','android','javascript','python',\n",
    "               'ruby',\"\"\"c++\"\"\",'c#','java','sql','iphone']"
   ]
  },
  {
   "cell_type": "code",
   "execution_count": 8,
   "metadata": {},
   "outputs": [],
   "source": [
    "def check_topic(L1, L2):\n",
    "    '''\n",
    "    inputs:\n",
    "    L1: a list of strings, a list of tag words in the specific topic \n",
    "    L2: a list of strings, tags converted from the column tags as a list of strings \n",
    "    outputs:\n",
    "    return True or False if the L2 tag contains key word from the L1 \n",
    "    '''\n",
    "    L2 = [x.lower() for x in L2]\n",
    "    for l1 in L1:\n",
    "        if l1.lower() in L2:\n",
    "            return True\n",
    "    return False"
   ]
  },
  {
   "cell_type": "code",
   "execution_count": 9,
   "metadata": {},
   "outputs": [],
   "source": [
    "# create a function to check overlapping tags and remove them if so \n",
    "\n",
    "def overlap(tags):\n",
    "    '''\n",
    "    list of all tags of interest (look for specific tags)\n",
    "    '''\n",
    "    df = raw_df.copy()\n",
    "    remain_tags = set(tags)\n",
    "    for t1 in tags:\n",
    "        remain_tags.remove(t1)\n",
    "        # print(t1)\n",
    "        for t in remain_tags:\n",
    "            # print(t)\n",
    "            mask = df.tags.str.split('|').apply(lambda x:\n",
    "                                             check_topic([t1],x) and\n",
    "                                             check_topic([t],x))\n",
    "            # print (mask.sum())\n",
    "            if mask.sum():  # common tags \n",
    "                # remove the repeating tags from the dataframe \n",
    "                # print(df.shape[0])\n",
    "                df = df[~mask]\n",
    "                # print(df.shape[0])\n",
    "    return df            "
   ]
  },
  {
   "cell_type": "markdown",
   "metadata": {},
   "source": [
    "### remove overlaping tags"
   ]
  },
  {
   "cell_type": "code",
   "execution_count": 10,
   "metadata": {},
   "outputs": [],
   "source": [
    "filtered_df = overlap(all_tags)"
   ]
  },
  {
   "cell_type": "code",
   "execution_count": 11,
   "metadata": {
    "scrolled": false
   },
   "outputs": [
    {
     "data": {
      "text/plain": [
       "(79001, 4)"
      ]
     },
     "execution_count": 11,
     "metadata": {},
     "output_type": "execute_result"
    }
   ],
   "source": [
    "filtered_df.shape"
   ]
  },
  {
   "cell_type": "code",
   "execution_count": 12,
   "metadata": {},
   "outputs": [
    {
     "data": {
      "text/html": [
       "<div>\n",
       "<style scoped>\n",
       "    .dataframe tbody tr th:only-of-type {\n",
       "        vertical-align: middle;\n",
       "    }\n",
       "\n",
       "    .dataframe tbody tr th {\n",
       "        vertical-align: top;\n",
       "    }\n",
       "\n",
       "    .dataframe thead th {\n",
       "        text-align: right;\n",
       "    }\n",
       "</style>\n",
       "<table border=\"1\" class=\"dataframe\">\n",
       "  <thead>\n",
       "    <tr style=\"text-align: right;\">\n",
       "      <th></th>\n",
       "      <th>id</th>\n",
       "      <th>title</th>\n",
       "      <th>body</th>\n",
       "      <th>tags</th>\n",
       "    </tr>\n",
       "  </thead>\n",
       "  <tbody>\n",
       "    <tr>\n",
       "      <th>5</th>\n",
       "      <td>927358</td>\n",
       "      <td>How do you undo the last commit?</td>\n",
       "      <td>I committed the wrong files to Git. How can I ...</td>\n",
       "      <td>git|git-commit|git-reset|git-revert</td>\n",
       "    </tr>\n",
       "    <tr>\n",
       "      <th>11</th>\n",
       "      <td>179123</td>\n",
       "      <td>Edit an incorrect commit message in Git</td>\n",
       "      <td>I wrote the wrong thing in a commit message. H...</td>\n",
       "      <td>git|git-commit|git-rewrite-history|amend</td>\n",
       "    </tr>\n",
       "    <tr>\n",
       "      <th>12</th>\n",
       "      <td>2003505</td>\n",
       "      <td>Delete a Git branch both locally and remotely</td>\n",
       "      <td>I want to delete a branch both locally and on ...</td>\n",
       "      <td>git|github|git-branch|git-remote</td>\n",
       "    </tr>\n",
       "    <tr>\n",
       "      <th>21</th>\n",
       "      <td>477816</td>\n",
       "      <td>What is the correct JSON content type?</td>\n",
       "      <td>I've been messing around with JSON for some ti...</td>\n",
       "      <td>json|content-type</td>\n",
       "    </tr>\n",
       "    <tr>\n",
       "      <th>23</th>\n",
       "      <td>292357</td>\n",
       "      <td>What are the differences between 'git pull' an...</td>\n",
       "      <td>What are the differences between git pull and ...</td>\n",
       "      <td>git|git-pull|git-fetch</td>\n",
       "    </tr>\n",
       "  </tbody>\n",
       "</table>\n",
       "</div>"
      ],
      "text/plain": [
       "         id                                              title  \\\n",
       "5    927358                   How do you undo the last commit?   \n",
       "11   179123            Edit an incorrect commit message in Git   \n",
       "12  2003505      Delete a Git branch both locally and remotely   \n",
       "21   477816             What is the correct JSON content type?   \n",
       "23   292357  What are the differences between 'git pull' an...   \n",
       "\n",
       "                                                 body  \\\n",
       "5   I committed the wrong files to Git. How can I ...   \n",
       "11  I wrote the wrong thing in a commit message. H...   \n",
       "12  I want to delete a branch both locally and on ...   \n",
       "21  I've been messing around with JSON for some ti...   \n",
       "23  What are the differences between git pull and ...   \n",
       "\n",
       "                                        tags  \n",
       "5        git|git-commit|git-reset|git-revert  \n",
       "11  git|git-commit|git-rewrite-history|amend  \n",
       "12          git|github|git-branch|git-remote  \n",
       "21                         json|content-type  \n",
       "23                    git|git-pull|git-fetch  "
      ]
     },
     "execution_count": 12,
     "metadata": {},
     "output_type": "execute_result"
    }
   ],
   "source": [
    "filtered_df.head()"
   ]
  },
  {
   "cell_type": "markdown",
   "metadata": {},
   "source": [
    "### Select each tags and look at distribution"
   ]
  },
  {
   "cell_type": "code",
   "execution_count": 13,
   "metadata": {},
   "outputs": [
    {
     "name": "stderr",
     "output_type": "stream",
     "text": [
      "/anaconda3/lib/python3.7/site-packages/ipykernel_launcher.py:5: SettingWithCopyWarning: \n",
      "A value is trying to be set on a copy of a slice from a DataFrame\n",
      "\n",
      "See the caveats in the documentation: http://pandas.pydata.org/pandas-docs/stable/user_guide/indexing.html#returning-a-view-versus-a-copy\n",
      "  \"\"\"\n"
     ]
    }
   ],
   "source": [
    "# change the tag names to these tags\n",
    "for tag in all_tags:\n",
    "    mask = filtered_df.tags.str.split('|').apply(lambda x:\n",
    "                                                check_topic([tag], x))\n",
    "    filtered_df.tags[mask] = tag"
   ]
  },
  {
   "cell_type": "code",
   "execution_count": 14,
   "metadata": {},
   "outputs": [],
   "source": [
    "# remove any data that are not any of these tags \n",
    "filtered_df = filtered_df[filtered_df.tags.str.split('|').apply(lambda x: check_topic(all_tags,x))]"
   ]
  },
  {
   "cell_type": "code",
   "execution_count": 15,
   "metadata": {},
   "outputs": [],
   "source": [
    "tags_info = filtered_df.tags.value_counts()"
   ]
  },
  {
   "cell_type": "code",
   "execution_count": 16,
   "metadata": {
    "scrolled": true
   },
   "outputs": [
    {
     "data": {
      "image/png": "[encoded data removed]",
      "text/plain": [
       "<Figure size 432x288 with 1 Axes>"
      ]
     },
     "metadata": {
      "needs_background": "light"
     },
     "output_type": "display_data"
    }
   ],
   "source": [
    "plt.bar(tags_info.index, tags_info.values)\n",
    "plt.xticks(rotation=60)\n",
    "plt.show()"
   ]
  },
  {
   "cell_type": "code",
   "execution_count": 17,
   "metadata": {},
   "outputs": [],
   "source": [
    "# save the filtered_df for text preprocessing \n",
    "filtered_df.to_pickle('data/filtered_df.pkl')"
   ]
  }
 ],
 "metadata": {
  "kernelspec": {
   "display_name": "Python 3",
   "language": "python",
   "name": "python3"
  },
  "language_info": {
   "codemirror_mode": {
    "name": "ipython",
    "version": 3
   },
   "file_extension": ".py",
   "mimetype": "text/x-python",
   "name": "python",
   "nbconvert_exporter": "python",
   "pygments_lexer": "ipython3",
   "version": "3.7.1"
  }
 },
 "nbformat": 4,
 "nbformat_minor": 2
}
